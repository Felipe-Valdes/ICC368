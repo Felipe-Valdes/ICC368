{
 "cells": [
  {
   "cell_type": "code",
   "execution_count": null,
   "metadata": {},
   "outputs": [],
   "source": [
    "import sys\n",
    "sys.path.append('../../')  # Retrocede dos niveles para llegar al directorio src\n",
    "\n",
    "import src.business.VisitorService as VisitorService\n",
    "import src.persistence.VisitorRepository as VisitorRepository\n",
    "\n",
    "# Requerimiento 1.\n",
    "# Obtener la lista de visitantes y exposiciones entre dos fechas ordenadas por fecha de inicio de la exposición.\n",
    "# Se incluye en la capa de negocios, además, un transformador de datos para obtener la información en formato JSON.\n",
    "\n",
    "visitor_service = VisitorService.VisitorService()\n",
    "visitor_repository = VisitorRepository.VisitorRepository()\n",
    "\n",
    "print(visitor_service.get_json_visitors_and_exhibition_between_dates_ordered_by_start_date(\"2020-01-01\", \"2025-12-31\"))\n",
    "\n",
    "display(visitor_repository.get_visitors_and_exhibition_between_dates_ordered_by_start_date(\"2020-01-01\", \"2025-12-31\"))"
   ]
  },
  {
   "cell_type": "code",
   "execution_count": null,
   "metadata": {},
   "outputs": [],
   "source": [
    "import src.persistence.ExpositionRepository as ExpositionRepository\n",
    "\n",
    "# Requerimiento 2.\n",
    "# Obtiene a las exhibiciones, juntos a los artefactos que contienen, ordenados por fecha de inicio.\n",
    "\n",
    "exposition_repository = ExpositionRepository.ExpositionRepository()\n",
    "\n",
    "display(exposition_repository.get_expositions_and_artefacts_ordered_by_start_date())"
   ]
  },
  {
   "cell_type": "code",
   "execution_count": null,
   "metadata": {},
   "outputs": [],
   "source": [
    "import src.persistence.ArtefactRepository as ArtefactRepository\n",
    "\n",
    "# Requerimiento 3.\n",
    "# Obtiene a las exhibiciones, juntos a los artefactos que contienen.\n",
    "# Sin filtros, con filtro de id de artefacto, con intervalo de fechas de inicio, y con ambos filtros.\n",
    "\n",
    "artefact_repository = ArtefactRepository.ArtefactRepository()\n",
    "\n",
    "display(artefact_repository.get_artefacts_and_exhibitions())\n",
    "display(artefact_repository.get_artefacts_and_exhibitions_by_artefact_id(artefact_id=1))\n",
    "display(artefact_repository.get_artefacts_and_exhibitions_between_dates(start_date=\"2020-01-01\", end_date=\"2025-12-31\"))\n",
    "display(artefact_repository.get_artefacts_and_exhibitions_between_dates_by_artefact_id(artefact_id=1, start_date=\"2020-01-01\", end_date=\"2022-12-31\"))"
   ]
  },
  {
   "cell_type": "code",
   "execution_count": null,
   "metadata": {},
   "outputs": [],
   "source": [
    "import src.persistence.VisitorRepository as VisitorRepository\n",
    "import src.business.VisitorService as VisitorService\n",
    "import matplotlib.pyplot as plt\n",
    "\n",
    "# Requerimiento 4.\n",
    "# Graficar la cantidad de visitantes por periodo de tiempo.\n",
    "\n",
    "\n",
    "visitor_repository = VisitorRepository.VisitorRepository()\n",
    "visitor_service = VisitorService.VisitorService()\n",
    "\n",
    "def plot_visitors_by_period(start_date, end_date, periodo='day'):\n",
    "    # Obtener datos de visitantes por periodo\n",
    "    df = visitor_repository.get_visitors_by_date_range(start_date, end_date, periodo)\n",
    "    \n",
    "    # Configurar el tamaño del gráfico\n",
    "    plt.figure(figsize=(10, 6))\n",
    "    \n",
    "    # Graficar los datos\n",
    "    plt.plot(df['Fecha'], df['Cantidad_Visitantes'], marker='o')\n",
    "    \n",
    "    # Determinar el nombre del periodo\n",
    "    if periodo == 'day':\n",
    "        period_name = 'día'\n",
    "    elif periodo == 'week':\n",
    "        period_name = 'semana'\n",
    "    elif periodo == 'month':\n",
    "        period_name = 'mes'\n",
    "    elif periodo == 'year':\n",
    "        period_name = 'año'\n",
    "    else:\n",
    "        period_name = 'periodo'\n",
    "\n",
    "    # Añadir título y etiquetas\n",
    "    plt.title(f'Cantidad de visitantes por {period_name} ({start_date} - {end_date})')\n",
    "    plt.xlabel('Fecha')\n",
    "    plt.ylabel('Cantidad de visitantes')\n",
    "    \n",
    "    # Mostrar el gráfico\n",
    "    plt.grid(True)\n",
    "    plt.xticks(rotation=45)\n",
    "    plt.show()\n",
    "\n",
    "# Obtener datos de visitantes por día\n",
    "display(visitor_repository.get_visitors_by_date_range(\"2020-01-01\", \"2025-12-31\", \"month\"))\n",
    "\n",
    "# Ejemplo de uso\n",
    "plot_visitors_by_period(\"2020-01-01\", \"2025-12-31\", \"month\")\n",
    "\n",
    "# Obtiene json\n",
    "visitor_service.get_json_visitors_ordered_by_number_of_attendances()"
   ]
  },
  {
   "cell_type": "code",
   "execution_count": null,
   "metadata": {},
   "outputs": [],
   "source": [
    "import src.persistence.ArtefactRepository as ArtefactRepository\n",
    "\n",
    "# Requerimiento 5.\n",
    "# Obtiene a los artefactos, juntos a su familia, ordenados por familia y nombre.\n",
    "\n",
    "artefact_repository = ArtefactRepository.ArtefactRepository()\n",
    "\n",
    "display(artefact_repository.get_artefacts_ordered_by_family_and_name())\n"
   ]
  },
  {
   "cell_type": "code",
   "execution_count": null,
   "metadata": {},
   "outputs": [],
   "source": [
    "import src.business.VisitorService as VisitorService\n",
    "import pandas as pd\n",
    "\n",
    "# Requerimiento 6.\n",
    "# Calcula el crecimiento de visitantes en porcentaje entre periodos de tiempo.\n",
    "\n",
    "visitor_service = VisitorService.VisitorService()\n",
    "visitor_repository = VisitorRepository.VisitorRepository()\n",
    "\n",
    "display(visitor_service.visitors_growth_percentage_json(\"2020-01-01\", \"2025-12-31\",\"month\"))\n",
    "\n",
    "# Obtiene json\n",
    "print(visitor_service.get_json_visitors_by_date_range(\"2020-01-01\", \"2025-12-31\"))"
   ]
  },
  {
   "cell_type": "code",
   "execution_count": null,
   "metadata": {},
   "outputs": [],
   "source": [
    "import src.persistence.ExpositionRepository as ExpositionRepository\n",
    "\n",
    "# Requerimiento 7.\n",
    "# Obtiene a las exposiciones, juntos al total de recorridos realizados en cada una.\n",
    "# Sin filtros, con intervalo de fechas de inicio.\n",
    "\n",
    "exposition_repository = ExpositionRepository.ExpositionRepository()\n",
    "\n",
    "display(exposition_repository.get_expositions_and_total_tours())\n",
    "\n",
    "fecha_inicio = '2024-05-01 00:00:00'\n",
    "fecha_termino = '2024-12-31 23:59:59'\n",
    "\n",
    "display(exposition_repository.get_expositions_and_total_tours_between_dates(fecha_inicio, fecha_termino))"
   ]
  },
  {
   "cell_type": "code",
   "execution_count": null,
   "metadata": {},
   "outputs": [],
   "source": [
    "import src.persistence.VisitorRepository as VisitorRepository\n",
    "\n",
    "# Requerimiento 8\n",
    "# Obtiene a los visitantes, ordenados por cantidad de recorridos realizados.\n",
    "\n",
    "visitor_repository = VisitorRepository.VisitorRepository()\n",
    "\n",
    "display(visitor_repository.get_visitors_ordered_by_number_of_attendances())"
   ]
  },
  {
   "cell_type": "code",
   "execution_count": null,
   "metadata": {},
   "outputs": [],
   "source": [
    "import src.persistence.ThemeRepository as ThemeRepository\n",
    "\n",
    "# Requerimiento 9.\n",
    "# Obtiene a los temas, juntos a las exposiciones que contienen.\n",
    "\n",
    "theme_repository = ThemeRepository.ThemeRepository()\n",
    "\n",
    "display(theme_repository.get_themes_and_expositions())"
   ]
  },
  {
   "cell_type": "code",
   "execution_count": null,
   "metadata": {},
   "outputs": [],
   "source": [
    "import src.persistence.ExpositionRepository as ExpositionRepository\n",
    "\n",
    "# Requrimiento 10.\n",
    "# Obtiene a las exposiciones, juntos a las empresas que las visitan.\n",
    "\n",
    "exposition_repository = ExpositionRepository.ExpositionRepository()\n",
    "\n",
    "display(exposition_repository.get_expositions_and_visiting_companies())"
   ]
  }
 ],
 "metadata": {
  "kernelspec": {
   "display_name": "base",
   "language": "python",
   "name": "python3"
  },
  "language_info": {
   "codemirror_mode": {
    "name": "ipython",
    "version": 3
   },
   "file_extension": ".py",
   "mimetype": "text/x-python",
   "name": "python",
   "nbconvert_exporter": "python",
   "pygments_lexer": "ipython3",
   "version": "3.6.13"
  }
 },
 "nbformat": 4,
 "nbformat_minor": 2
}
