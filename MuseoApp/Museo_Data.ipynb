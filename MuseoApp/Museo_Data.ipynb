{
 "cells": [
  {
   "cell_type": "code",
   "execution_count": null,
   "metadata": {},
   "outputs": [],
   "source": [
    "\n",
    "import src.business.VisitorService as VisitorService\n",
    "import src.persistence.VisitorRepository as VisitorRepository\n",
    "\n",
    "# Requerimiento 1.\n",
    "# Obtener la lista de visitantes y exposiciones entre dos fechas ordenadas por fecha de inicio de la exposición.\n",
    "# Se incluye en la capa de negocios, además, un transformador de datos para obtener la información en formato JSON.\n",
    "\n",
    "visitor_service = VisitorService.VisitorService()\n",
    "visitor_repository = VisitorRepository.VisitorRepository()\n",
    "\n",
    "print(visitor_service.get_json_visitors_and_exhibition_between_dates_ordered_by_start_date(\"2020-01-01\", \"2025-12-31\"))\n",
    "\n",
    "display(visitor_repository.get_visitors_and_exhibition_between_dates_ordered_by_start_date(\"2020-01-01\", \"2025-12-31\"))"
   ]
  },
  {
   "cell_type": "code",
   "execution_count": null,
   "metadata": {},
   "outputs": [],
   "source": [
    "import src.persistence.ExpositionRepository as ExpositionRepository\n",
    "\n",
    "# Requerimiento 2.\n",
    "# Obtiene a las exhibiciones, juntos a los artefactos que contienen, ordenados por fecha de inicio.\n",
    "\n",
    "exposition_repository = ExpositionRepository.ExpositionRepository()\n",
    "\n",
    "display(exposition_repository.get_expositions_and_artefacts_ordered_by_start_date())"
   ]
  },
  {
   "cell_type": "code",
   "execution_count": null,
   "metadata": {},
   "outputs": [],
   "source": [
    "import src.persistence.ArtefactRepository as ArtefactRepository\n",
    "\n",
    "# Requerimiento 3.\n",
    "# Obtiene a las exhibiciones, juntos a los artefactos que contienen.\n",
    "# Sin filtros, con filtro de id de artefacto, con intervalo de fechas de inicio, y con ambos filtros.\n",
    "\n",
    "artefact_repository = ArtefactRepository.ArtefactRepository()\n",
    "\n",
    "display(artefact_repository.get_artefacts_and_exhibitions())\n",
    "display(artefact_repository.get_artefacts_and_exhibitions_by_artefact_id(artefact_id=1))\n",
    "display(artefact_repository.get_artefacts_and_exhibitions_between_dates(start_date=\"2020-01-01\", end_date=\"2025-12-31\"))\n",
    "display(artefact_repository.get_artefacts_and_exhibitions_between_dates_by_artefact_id(artefact_id=1, start_date=\"2020-01-01\", end_date=\"2022-12-31\"))"
   ]
  },
  {
   "cell_type": "code",
   "execution_count": null,
   "metadata": {},
   "outputs": [],
   "source": [
    "import matplotlib.pyplot as plt\n",
    "import src.persistence.VisitorRepository as VisitorRepository\n",
    "\n",
    "# Definir la consulta SQL\n",
    "query = \"\"\"\n",
    "SELECT \n",
    "    DATE(Recorrido.fechaInicio) AS Fecha,\n",
    "    COUNT(DISTINCT Recorrido.Usuarioid) AS Cantidad_Visitantes\n",
    "FROM \n",
    "    Recorrido\n",
    "WHERE \n",
    "    Recorrido.fechaInicio BETWEEN %s AND %s\n",
    "GROUP BY \n",
    "    Fecha\n",
    "ORDER BY \n",
    "    Fecha;\n",
    "\"\"\"\n",
    "\n",
    "# Definir el rango de fechas.\n",
    "fecha_inicio = '2023-01-01'\n",
    "fecha_termino = '2023-12-31'\n",
    "\n",
    "# Ejecutar la consulta con el rango de fechas\n",
    "df4 = pd.read_sql_query(query, engine, params=[fecha_inicio, fecha_termino])\n",
    "\n",
    "# Mostrar el resultado.\n",
    "print(df4)\n",
    "\n",
    "# Graficar los datos.\n",
    "plt.figure(figsize=(10, 6))\n",
    "plt.plot(df4['Fecha'], df4['Cantidad_Visitantes'], marker='o')\n",
    "plt.title('Cantidad de Visitantes por Día')\n",
    "plt.xlabel('Fecha')\n",
    "plt.ylabel('Cantidad de Visitantes')\n",
    "plt.grid(True)\n",
    "plt.xticks(rotation=45)\n",
    "plt.tight_layout()\n",
    "plt.show()\n"
   ]
  },
  {
   "cell_type": "code",
   "execution_count": null,
   "metadata": {},
   "outputs": [],
   "source": [
    "import src.persistence.ArtefactRepository as ArtefactRepository\n",
    "\n",
    "# Requerimiento 5.\n",
    "# Obtiene a los artefactos, juntos a su familia, ordenados por familia y nombre.\n",
    "\n",
    "artefact_repository = ArtefactRepository.ArtefactRepository()\n",
    "\n",
    "display(artefact_repository.get_artefacts_ordered_by_family_and_name())\n"
   ]
  },
  {
   "cell_type": "code",
   "execution_count": null,
   "metadata": {},
   "outputs": [],
   "source": [
    "# Definir la consulta SQL\n",
    "query = \"\"\"\n",
    "SELECT \n",
    "    YEAR(Recorrido.fechaInicio) AS Anio,\n",
    "    MONTH(Recorrido.fechaInicio) AS Mes,\n",
    "    COUNT(DISTINCT Recorrido.Usuarioid) AS Cantidad_Visitantes\n",
    "FROM \n",
    "    Recorrido\n",
    "GROUP BY \n",
    "    Anio, Mes\n",
    "ORDER BY \n",
    "    Anio, Mes;\n",
    "\"\"\"\n",
    "\n",
    "# Ejecutar la consulta\n",
    "df6 = pd.read_sql_query(query, engine)\n",
    "\n",
    "# Calcular el porcentaje de crecimiento o decrecimiento\n",
    "df6['Cantidad_Visitantes_Anterior'] = df6['Cantidad_Visitantes'].shift(1)\n",
    "df6['Crecimiento_Decrecimiento'] = ((df6['Cantidad_Visitantes'] - df6['Cantidad_Visitantes_Anterior']) / df6['Cantidad_Visitantes_Anterior']) * 100\n",
    "\n",
    "# Mostrar el resultado\n",
    "print(df6)\n"
   ]
  },
  {
   "cell_type": "code",
   "execution_count": null,
   "metadata": {},
   "outputs": [],
   "source": [
    "import src.persistence.ExpositionRepository as ExpositionRepository\n",
    "\n",
    "# Requerimiento 7.\n",
    "# Obtiene a las exposiciones, juntos al total de recorridos realizados en cada una.\n",
    "# Sin filtros, con intervalo de fechas de inicio.\n",
    "\n",
    "exposition_repository = ExpositionRepository.ExpositionRepository()\n",
    "\n",
    "display(exposition_repository.get_expositions_and_total_tours())\n",
    "\n",
    "fecha_inicio = '2024-05-01 00:00:00'\n",
    "fecha_termino = '2024-12-31 23:59:59'\n",
    "\n",
    "display(exposition_repository.get_expositions_and_total_tours_between_dates(fecha_inicio, fecha_termino))"
   ]
  },
  {
   "cell_type": "code",
   "execution_count": null,
   "metadata": {},
   "outputs": [],
   "source": [
    "import src.persistence.VisitorRepository as VisitorRepository\n",
    "\n",
    "# Requerimiento 8\n",
    "# Obtiene a los visitantes, ordenados por cantidad de recorridos realizados.\n",
    "\n",
    "visitor_repository = VisitorRepository.VisitorRepository()\n",
    "\n",
    "display(visitor_repository.get_visitors_ordered_by_number_of_attendances())"
   ]
  },
  {
   "cell_type": "code",
   "execution_count": null,
   "metadata": {},
   "outputs": [],
   "source": [
    "import src.persistence.ThemeRepository as ThemeRepository\n",
    "\n",
    "# Requerimiento 9.\n",
    "# Obtiene a los temas, juntos a las exposiciones que contienen.\n",
    "\n",
    "theme_repository = ThemeRepository.ThemeRepository()\n",
    "\n",
    "display(theme_repository.get_themes_and_expositions())"
   ]
  },
  {
   "cell_type": "code",
   "execution_count": null,
   "metadata": {},
   "outputs": [],
   "source": [
    "import src.persistence.ExpositionRepository as ExpositionRepository\n",
    "\n",
    "# Requrimiento 10.\n",
    "# Obtiene a las exposiciones, juntos a las empresas que las visitan.\n",
    "\n",
    "exposition_repository = ExpositionRepository.ExpositionRepository()\n",
    "\n",
    "display(exposition_repository.get_expositions_and_visiting_companies())"
   ]
  }
 ],
 "metadata": {
  "kernelspec": {
   "display_name": "base",
   "language": "python",
   "name": "python3"
  },
  "language_info": {
   "codemirror_mode": {
    "name": "ipython",
    "version": 3
   },
   "file_extension": ".py",
   "mimetype": "text/x-python",
   "name": "python",
   "nbconvert_exporter": "python",
   "pygments_lexer": "ipython3",
   "version": "3.11.9"
  }
 },
 "nbformat": 4,
 "nbformat_minor": 2
}
