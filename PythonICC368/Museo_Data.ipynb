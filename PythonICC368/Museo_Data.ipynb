{
 "cells": [
  {
   "cell_type": "code",
   "execution_count": 1,
   "metadata": {},
   "outputs": [
    {
     "name": "stdout",
     "output_type": "stream",
     "text": [
      "Tablas en la base de datos: ['Artefacto', 'Artefacto_Exhibicion', 'Exhibicion', 'Museo', 'Museo_Exhibicion', 'Recorrido', 'Usuario']\n",
      "   id                  descripcion    familia       imagen       nombre\n",
      "0   1  Descripción del artefacto 1  Familia A  imagen1.jpg  Artefacto 1\n",
      "1   2  Descripción del artefacto 2  Familia B  imagen2.jpg  Artefacto 2\n",
      "2   3  Descripción del artefacto 3  Familia A  imagen3.jpg  Artefacto 3\n",
      "3   4  Descripción del artefacto 4  Familia C  imagen4.jpg  Artefacto 4\n",
      "4   5  Descripción del artefacto 5  Familia B  imagen5.jpg  Artefacto 5\n"
     ]
    }
   ],
   "source": [
    "import pandas as pd\n",
    "from sqlalchemy import create_engine, inspect\n",
    "\n",
    "# Crear la cadena de conexión\n",
    "username = 'usuario_remoto'\n",
    "password = 'Cla-Ve-Se-Gu-Ra-77'\n",
    "host = '192.168.1.21'\n",
    "database = 'museo2'\n",
    "\n",
    "# Crear la cadena de conexión\n",
    "connection_string = f'mysql+pymysql://{username}:{password}@{host}/{database}'\n",
    "\n",
    "# Crear el motor de conexión\n",
    "engine = create_engine(connection_string)\n",
    "\n",
    "# Crear el inspector\n",
    "inspector = inspect(engine)\n",
    "\n",
    "# Obtener los nombres de las tablas\n",
    "table_names = inspector.get_table_names()\n",
    "print(f\"Tablas en la base de datos: {table_names}\")\n",
    "\n",
    "# Leer la tabla 'Artefacto'\n",
    "query = 'SELECT * FROM Artefacto'\n",
    "df = pd.read_sql(query, engine)\n",
    "print(df)\n"
   ]
  }
 ],
 "metadata": {
  "kernelspec": {
   "display_name": "base",
   "language": "python",
   "name": "python3"
  },
  "language_info": {
   "codemirror_mode": {
    "name": "ipython",
    "version": 3
   },
   "file_extension": ".py",
   "mimetype": "text/x-python",
   "name": "python",
   "nbconvert_exporter": "python",
   "pygments_lexer": "ipython3",
   "version": "3.7.1"
  }
 },
 "nbformat": 4,
 "nbformat_minor": 2
}
